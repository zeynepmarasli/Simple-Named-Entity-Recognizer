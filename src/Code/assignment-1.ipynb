{
 "cells": [
  {
   "cell_type": "code",
   "execution_count": 27,
   "metadata": {},
   "outputs": [],
   "source": [
    "import regex as re"
   ]
  },
  {
   "cell_type": "code",
   "execution_count": 32,
   "metadata": {},
   "outputs": [],
   "source": [
    "#load input file as string \n",
    "input_file = open(\"/Users/zeynepmarasli/assignment-1-zeynepmarasli/src/Data/Input/input.txt\", \"r\") #CHANGE THIS TO THE USER'S DIRECTORY\n",
    "input_string = input_file.read()\n",
    "input_file.close()\n",
    "#print(input_string)"
   ]
  },
  {
   "cell_type": "code",
   "execution_count": 33,
   "metadata": {},
   "outputs": [],
   "source": [
    "#BASE PATTERNS\n",
    "months = '(January|February|March|April|May|June|July|August|September|October|November|December)'\n",
    "day_no_suffix = '(3[01]|[12][0-9]|[1-9])' #1-31 days of the month \n",
    "day_w_suffix = '((31|21|1)st|(22|2)nd|(23|3)rd|(30|2[04-9]|1[0-9]|[04-9])th)' #forces correct suffix\n",
    "day_date = '\\\\b(' + day_w_suffix + '|' + day_no_suffix + ')\\\\b' #ensures word boundaries \n",
    "year_date = '([12][0-9]{3})'\n",
    "mmddyyyy = '([1-9]|1[0-2])(/)(3[01]|[12][0-9]|[0-9])(/)([12][0-9]{3})'\n",
    "week_days = '(Monday|Tuesday|Wednesday|Thursday|Friday|Saturday|Sunday)'\n",
    "time_of_day = '(morning|afternoon|evening|night)'\n",
    "time_hours = '(1[0-2]|[1-9])(am|pm)'\n",
    "\n",
    "matches = [] #running list of valid matches from input text "
   ]
  },
  {
   "cell_type": "code",
   "execution_count": 34,
   "metadata": {},
   "outputs": [],
   "source": [
    "#build the more complex patterns, starting with longer patterns first \n",
    "pattern1 = 'the\\s' + day_date + '\\sof\\s' + months + '(,\\s' + year_date + ')?' #ex. the 3rd of January(, 2014)\n",
    "pattern2 = '(' + week_days + ',\\s)?' + months + '\\s' + day_date + ',\\s' + year_date #ex. (Tuesday, )January 3(rd), 2014\n",
    "pattern3 = months + '\\s(the\\s)?' + day_date + '(,\\s' + year_date + ')?' #ex. January (the) 3(rd),( 2014)\n",
    "pattern4 = months + '(,\\s' + year_date + ')?' #ex. January(, 2014)\n",
    "pattern5 = mmddyyyy + '|' + year_date #ex. 1/2/2020 --> mm/dd/yyyy OR YYYY\n",
    "pattern6 = week_days + '(,\\s' + time_hours + '|\\s' + time_of_day + '|\\sthe\\s' + day_date + ')?' #ex. Monday(, 2pm| afternoon | the 23rd) \n",
    "\n",
    "patterns = [pattern1, pattern2, pattern3, pattern4, pattern5, pattern6]\n",
    "\n",
    "#read in federal holidays from text file, store as list \n",
    "file = open(\"/Users/zeynepmarasli/assignment-1-zeynepmarasli/src/Data/Input/federal_holidays.txt\", \"r\") #CHANGE THIS TO THE USER'S DIRECTORY\n",
    "holidays = file.read().splitlines()\n",
    "file.close()\n"
   ]
  },
  {
   "cell_type": "code",
   "execution_count": 35,
   "metadata": {},
   "outputs": [],
   "source": [
    "#iterate through each pattern & find valid matches\n",
    "for pattern in patterns:\n",
    "    match = re.search(pattern, input_string)\n",
    "    while match: #while there is a match found\n",
    "        m = match.group()\n",
    "        matches.append(m)\n",
    "        #print(m)\n",
    "        input_string = re.sub(m, \"\", input_string, count = 1) #remove valid match from input text (first occurrence only)\n",
    "        match = re.search(pattern, input_string) #do another search \n",
    "\n",
    "#do same for holidays\n",
    "for holiday in holidays:\n",
    "    pattern = holiday \n",
    "    match = re.search(pattern, input_string)\n",
    "    while match: #while there is a match found \n",
    "        m = match.group()\n",
    "        matches.append(m) #add valid match to match list \n",
    "        #print(m)\n",
    "        input_string = re.sub(m, \"\", input_string, count = 1) #remove valid match from input text \n",
    "        match = re.search(pattern, input_string) #do another search \n",
    "\n"
   ]
  },
  {
   "cell_type": "code",
   "execution_count": 36,
   "metadata": {},
   "outputs": [],
   "source": [
    "#Write valid matches to output file \n",
    "output_file = open(\"/Users/zeynepmarasli/assignment-1-zeynepmarasli/src/Data/Output/output.txt\", \"w\") #CHANGE THIS TO THE USER'S DIRECTORY\n",
    "for match in matches:\n",
    "    output_file.write(match + \"\\n\")\n",
    "output_file.close()"
   ]
  }
 ],
 "metadata": {
  "kernelspec": {
   "display_name": "Python 3",
   "language": "python",
   "name": "python3"
  },
  "language_info": {
   "codemirror_mode": {
    "name": "ipython",
    "version": 3
   },
   "file_extension": ".py",
   "mimetype": "text/x-python",
   "name": "python",
   "nbconvert_exporter": "python",
   "pygments_lexer": "ipython3",
   "version": "3.8.5"
  }
 },
 "nbformat": 4,
 "nbformat_minor": 4
}
